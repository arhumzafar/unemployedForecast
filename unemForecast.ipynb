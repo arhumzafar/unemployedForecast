{
 "cells": [
  {
   "cell_type": "markdown",
   "metadata": {},
   "source": [
    "## Unemployment Rate Forecasting"
   ]
  },
  {
   "cell_type": "markdown",
   "metadata": {},
   "source": [
    "##### Arhum Zafar - December 2020"
   ]
  },
  {
   "cell_type": "markdown",
   "metadata": {},
   "source": [
    "This repo consists of another attempt to look into building accurate forecasting models for economic indicators -- specifically, I’ll be looking into forecasting the unemployment rate. \n",
    "<br>\n",
    "<br>\n",
    "In practice, traditional time series forecasting, such as [autoregressive moving average (ARMA)](https://en.wikipedia.org/wiki/Autoregressive%E2%80%93moving-average_model) models can lead to unsatisfactory results. \n",
    "In this notebook, I use 3 months of data to predict the unemployment rate for the following month. With the decision to use linear regression as a baseline model, I then compare performance from a random forest model, XGBoost, and long short-term memory (LSTM). Furthermore, I use both mean squared error (MSE) and mean absolute error (MAE) as evaluation metrics.\n"
   ]
  },
  {
   "cell_type": "code",
   "execution_count": null,
   "metadata": {},
   "outputs": [],
   "source": []
  }
 ],
 "metadata": {
  "kernelspec": {
   "display_name": "Python 3",
   "language": "python",
   "name": "python3"
  },
  "language_info": {
   "codemirror_mode": {
    "name": "ipython",
    "version": 3
   },
   "file_extension": ".py",
   "mimetype": "text/x-python",
   "name": "python",
   "nbconvert_exporter": "python",
   "pygments_lexer": "ipython3",
   "version": "3.8.2"
  }
 },
 "nbformat": 4,
 "nbformat_minor": 4
}
